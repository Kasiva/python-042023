{
 "cells": [
  {
   "attachments": {},
   "cell_type": "markdown",
   "metadata": {},
   "source": [
    "# Úkol 2\n",
    "\n",
    "Tentokrát budeme pracovat s daty z výzkumu veřejného mínění Eurobarometr. Ten je realizován v cca 40 zemích a lidé jsou v něm pravidelně tázání na řadu otázek. My se podíváme na tři z nich.\n",
    "\n",
    "Přehled států EU, které jsou v průzkumu, najdeš v souboru [countries.csv](soubory_02/countries.csv). V první části úkolu můžeš pracovat se všemi státy nebo jen pro státy EU - záleží na tobě. Ve druhé a třetí části pracuj pouze se státy EU."
   ]
  },
  {
   "cell_type": "code",
   "execution_count": 1,
   "metadata": {},
   "outputs": [],
   "source": [
    "import pandas as pd # ano\n",
    "import numpy as np\n",
    "import seaborn as sns\n",
    "from scipy import stats\n",
    "import matplotlib.pyplot as plt\n",
    "import statsmodels.api as sm\n",
    "import statsmodels.formula.api as smf"
   ]
  },
  {
   "cell_type": "code",
   "execution_count": 2,
   "metadata": {},
   "outputs": [
    {
     "data": {
      "text/html": [
       "<div>\n",
       "<style scoped>\n",
       "    .dataframe tbody tr th:only-of-type {\n",
       "        vertical-align: middle;\n",
       "    }\n",
       "\n",
       "    .dataframe tbody tr th {\n",
       "        vertical-align: top;\n",
       "    }\n",
       "\n",
       "    .dataframe thead th {\n",
       "        text-align: right;\n",
       "    }\n",
       "</style>\n",
       "<table border=\"1\" class=\"dataframe\">\n",
       "  <thead>\n",
       "    <tr style=\"text-align: right;\">\n",
       "      <th></th>\n",
       "      <th>Country Name</th>\n",
       "      <th>Country</th>\n",
       "      <th>Euro</th>\n",
       "    </tr>\n",
       "  </thead>\n",
       "  <tbody>\n",
       "    <tr>\n",
       "      <th>0</th>\n",
       "      <td>Belgium</td>\n",
       "      <td>BE</td>\n",
       "      <td>1</td>\n",
       "    </tr>\n",
       "    <tr>\n",
       "      <th>1</th>\n",
       "      <td>Greece</td>\n",
       "      <td>EL</td>\n",
       "      <td>1</td>\n",
       "    </tr>\n",
       "    <tr>\n",
       "      <th>2</th>\n",
       "      <td>Lithuania</td>\n",
       "      <td>LT</td>\n",
       "      <td>1</td>\n",
       "    </tr>\n",
       "    <tr>\n",
       "      <th>3</th>\n",
       "      <td>Portugal</td>\n",
       "      <td>PT</td>\n",
       "      <td>1</td>\n",
       "    </tr>\n",
       "    <tr>\n",
       "      <th>4</th>\n",
       "      <td>Bulgaria</td>\n",
       "      <td>BG</td>\n",
       "      <td>0</td>\n",
       "    </tr>\n",
       "  </tbody>\n",
       "</table>\n",
       "</div>"
      ],
      "text/plain": [
       "  Country Name Country  Euro\n",
       "0      Belgium      BE     1\n",
       "1       Greece      EL     1\n",
       "2    Lithuania      LT     1\n",
       "3     Portugal      PT     1\n",
       "4     Bulgaria      BG     0"
      ]
     },
     "execution_count": 2,
     "metadata": {},
     "output_type": "execute_result"
    }
   ],
   "source": [
    "data_country = pd.read_csv(\"countries.txt\") # tento DF používám pro celý Ukol_2\n",
    "data_country.head()\n",
    "# data_country.info()"
   ]
  },
  {
   "attachments": {},
   "cell_type": "markdown",
   "metadata": {},
   "source": [
    "## Inflace\n",
    "\n",
    "V souboru [ukol_02_a.csv](soubory_02/ukol_02_a.csv) najdeš procenta lidí, kteří považují inflaci a růst životních nákladů za jeden ze svých nejzávažnějších problémů. Data jsou za dvě období - léto 2022 (sloupec 97) a zima 2022/2023 (sloupec 98). Ověř, zda se procento lidí, kteří řadí inflaci mezi 2 své nejzávažnější problémy, změnilo.\n",
    "\n",
    "Je vhodné provést následující postup:\n",
    "\n",
    "- Test normality obou skupin dat. Podle toho zjistíš, zda je lepší provést parametrický nebo neparametrický test.\n",
    "- Formulace hypotéz testu.\n",
    "- Výběr vhodného testu. Vhodný je test, který jsme na lekci nepoužívali, ale je v seznamu testů, který je součástí lekce 6. Důležité je uvědomit si, že **porovnáváme tu samou skupinu států ve dvou různých časových obdobích**.\n",
    "- Formulace výsledek testu (na základě p-hodnoty)."
   ]
  },
  {
   "attachments": {},
   "cell_type": "markdown",
   "metadata": {},
   "source": [
    "načtení dat/úprava dat (pro mě)"
   ]
  },
  {
   "cell_type": "code",
   "execution_count": 3,
   "metadata": {},
   "outputs": [
    {
     "data": {
      "text/html": [
       "<div>\n",
       "<style scoped>\n",
       "    .dataframe tbody tr th:only-of-type {\n",
       "        vertical-align: middle;\n",
       "    }\n",
       "\n",
       "    .dataframe tbody tr th {\n",
       "        vertical-align: top;\n",
       "    }\n",
       "\n",
       "    .dataframe thead th {\n",
       "        text-align: right;\n",
       "    }\n",
       "</style>\n",
       "<table border=\"1\" class=\"dataframe\">\n",
       "  <thead>\n",
       "    <tr style=\"text-align: right;\">\n",
       "      <th></th>\n",
       "      <th>Country</th>\n",
       "      <th>winter_23</th>\n",
       "      <th>summer_22</th>\n",
       "    </tr>\n",
       "  </thead>\n",
       "  <tbody>\n",
       "    <tr>\n",
       "      <th>0</th>\n",
       "      <td>BE</td>\n",
       "      <td>31</td>\n",
       "      <td>34</td>\n",
       "    </tr>\n",
       "    <tr>\n",
       "      <th>1</th>\n",
       "      <td>BG</td>\n",
       "      <td>22</td>\n",
       "      <td>31</td>\n",
       "    </tr>\n",
       "    <tr>\n",
       "      <th>2</th>\n",
       "      <td>CZ</td>\n",
       "      <td>34</td>\n",
       "      <td>42</td>\n",
       "    </tr>\n",
       "    <tr>\n",
       "      <th>3</th>\n",
       "      <td>DK</td>\n",
       "      <td>28</td>\n",
       "      <td>33</td>\n",
       "    </tr>\n",
       "    <tr>\n",
       "      <th>4</th>\n",
       "      <td>D-W</td>\n",
       "      <td>33</td>\n",
       "      <td>40</td>\n",
       "    </tr>\n",
       "  </tbody>\n",
       "</table>\n",
       "</div>"
      ],
      "text/plain": [
       "  Country  winter_23  summer_22\n",
       "0      BE         31         34\n",
       "1      BG         22         31\n",
       "2      CZ         34         42\n",
       "3      DK         28         33\n",
       "4     D-W         33         40"
      ]
     },
     "execution_count": 3,
     "metadata": {},
     "output_type": "execute_result"
    }
   ],
   "source": [
    "data_inflace = pd.read_csv(\"ukol_02_a.txt\")\n",
    "# data_inflace.head()\n",
    "# data_inflace.info()\n",
    "data_inflace.rename(columns={'98':'winter_23', '97':'summer_22'}, inplace = True) # aych věděla co je, který sloupec\n",
    "data_inflace.head()"
   ]
  },
  {
   "attachments": {},
   "cell_type": "markdown",
   "metadata": {},
   "source": [
    "- Test normality obou skupin dat - podle výsledku vyberu/provedu parametrický nebo neparametrický test."
   ]
  },
  {
   "attachments": {},
   "cell_type": "markdown",
   "metadata": {},
   "source": [
    "Hypotéza:\n",
    "\n",
    "\n",
    "H0: winter_23 resp. summer_22 mají normální rozdělení dat (p<0,05 zamítám H0 t.j. platí H1.....p>0,05 nezamítám H0)\n",
    "\n",
    "H1: winter_23 resp. summer_22 nemají normální rozdělení dat \n",
    "\n",
    "Shapiro-Wilk test"
   ]
  },
  {
   "cell_type": "code",
   "execution_count": 4,
   "metadata": {},
   "outputs": [
    {
     "data": {
      "text/plain": [
       "ShapiroResult(statistic=0.9803104996681213, pvalue=0.687289297580719)"
      ]
     },
     "execution_count": 4,
     "metadata": {},
     "output_type": "execute_result"
    }
   ],
   "source": [
    "res_winter_23 = stats.shapiro(data_inflace['winter_23']) # ověření normality dat \n",
    "res_winter_23 # statistic=0.9803104996681213, pvalue=0.687289297580719 p>0,05 - normální rozdělení dat"
   ]
  },
  {
   "cell_type": "code",
   "execution_count": 5,
   "metadata": {},
   "outputs": [
    {
     "data": {
      "text/plain": [
       "ShapiroResult(statistic=0.9694532752037048, pvalue=0.33090925216674805)"
      ]
     },
     "execution_count": 5,
     "metadata": {},
     "output_type": "execute_result"
    }
   ],
   "source": [
    "res_summer_22 = stats.shapiro(data_inflace['summer_22']) # ověření normality dat \n",
    "res_summer_22 # statistic=0.9694532752037048, pvalue=0.33090925216674805 p>0,05 - normální rozdělení dat"
   ]
  },
  {
   "attachments": {},
   "cell_type": "markdown",
   "metadata": {},
   "source": [
    "Mohu použít parametrické testy"
   ]
  },
  {
   "attachments": {},
   "cell_type": "markdown",
   "metadata": {},
   "source": [
    "- Formulace hypotéz testu."
   ]
  },
  {
   "attachments": {},
   "cell_type": "markdown",
   "metadata": {},
   "source": [
    "Stejne zeme, stejna otazka dve pozorovani. Normalni rozdeleni dat.\n",
    "\n",
    "Ověř, zda se procento lidí, kteří řadí inflaci mezi 2 své nejzávažnější problémy, změnilo. summer_22/winter_23\n",
    "\n",
    "H0 - procento lidi je stejné (t.j. nezmněnilo se) takže pokud p< 0,05 zamítám H0 a H1 platí\n",
    "\n",
    "H1 - procento lidí není stejné (t.j. zmněnilo se)\n",
    "\n",
    "test: párový t-test  scipy.stats.ttest_rel (a, b, axis=0, nan_policy='propagate', alternative='two-sided', *, keepdims=False)\n",
    "https://docs.scipy.org/doc/scipy/reference/generated/scipy.stats.ttest_rel.html#scipy.stats.ttest_rel"
   ]
  },
  {
   "attachments": {},
   "cell_type": "markdown",
   "metadata": {},
   "source": [
    "- Výběr vhodného testu."
   ]
  },
  {
   "cell_type": "code",
   "execution_count": 8,
   "metadata": {},
   "outputs": [
    {
     "data": {
      "text/plain": [
       "TtestResult(statistic=3.868878598419143, pvalue=0.0003938172257904746, df=40)"
      ]
     },
     "execution_count": 8,
     "metadata": {},
     "output_type": "execute_result"
    }
   ],
   "source": [
    "res_inflace = stats.ttest_rel(data_inflace['summer_22'], data_inflace['winter_23'])\n",
    "res_inflace  # TtestResult(statistic=3.868878598419143, pvalue=0.0003938172257904746, df=40)"
   ]
  },
  {
   "attachments": {},
   "cell_type": "markdown",
   "metadata": {},
   "source": [
    "- Formulace výsledek testu (na základě p-hodnoty)."
   ]
  },
  {
   "attachments": {},
   "cell_type": "markdown",
   "metadata": {},
   "source": [
    "pvalue=0.0003938172257904746 .... p<0,05  zamítám H0 tzn. Ověřila jsem, že procento lidí, kteří řadí inflaci mezi 2 své nejzávažnější problémy, se změnilo."
   ]
  },
  {
   "attachments": {},
   "cell_type": "markdown",
   "metadata": {},
   "source": [
    "## Důvěra ve stát a v EU\n",
    "\n",
    "Ve výzkumu je dále zkoumáno, jak moc lidé věří své národní vládě a jak moc věří EU. Data jsou v souboru [ukol_02_b.csv](soubory_02/ukol_02_b.csv). Číslo udává procento lidí, kteří dané instituci věří. Ověř, zda existuje korelace mezi procentem lidí, které věří EU a procentem lidí, kteří věří své národní vládě.\n",
    "\n",
    "Je vhodné provést následující postup:\n",
    "\n",
    "- Test normality obou skupin dat.\n",
    "- Formulace hypotéz testu.\n",
    "- Volba vhodného testu. Pokud data nemají normální rozdělení, můžeš využít test korelace, který jsme prováděli na lekci. Pokud data normální rozdělení mají, můžeš použít test zmíněný v přehledu testů v dané lekci."
   ]
  },
  {
   "cell_type": "code",
   "execution_count": 9,
   "metadata": {},
   "outputs": [
    {
     "data": {
      "text/html": [
       "<div>\n",
       "<style scoped>\n",
       "    .dataframe tbody tr th:only-of-type {\n",
       "        vertical-align: middle;\n",
       "    }\n",
       "\n",
       "    .dataframe tbody tr th {\n",
       "        vertical-align: top;\n",
       "    }\n",
       "\n",
       "    .dataframe thead th {\n",
       "        text-align: right;\n",
       "    }\n",
       "</style>\n",
       "<table border=\"1\" class=\"dataframe\">\n",
       "  <thead>\n",
       "    <tr style=\"text-align: right;\">\n",
       "      <th></th>\n",
       "      <th>Country</th>\n",
       "      <th>National Government Trust</th>\n",
       "      <th>EU Trust</th>\n",
       "    </tr>\n",
       "  </thead>\n",
       "  <tbody>\n",
       "    <tr>\n",
       "      <th>0</th>\n",
       "      <td>BE</td>\n",
       "      <td>40</td>\n",
       "      <td>55</td>\n",
       "    </tr>\n",
       "    <tr>\n",
       "      <th>1</th>\n",
       "      <td>BG</td>\n",
       "      <td>19</td>\n",
       "      <td>49</td>\n",
       "    </tr>\n",
       "    <tr>\n",
       "      <th>2</th>\n",
       "      <td>CZ</td>\n",
       "      <td>30</td>\n",
       "      <td>43</td>\n",
       "    </tr>\n",
       "    <tr>\n",
       "      <th>3</th>\n",
       "      <td>DK</td>\n",
       "      <td>52</td>\n",
       "      <td>65</td>\n",
       "    </tr>\n",
       "    <tr>\n",
       "      <th>4</th>\n",
       "      <td>D-W</td>\n",
       "      <td>54</td>\n",
       "      <td>53</td>\n",
       "    </tr>\n",
       "  </tbody>\n",
       "</table>\n",
       "</div>"
      ],
      "text/plain": [
       "  Country  National Government Trust  EU Trust\n",
       "0      BE                         40        55\n",
       "1      BG                         19        49\n",
       "2      CZ                         30        43\n",
       "3      DK                         52        65\n",
       "4     D-W                         54        53"
      ]
     },
     "execution_count": 9,
     "metadata": {},
     "output_type": "execute_result"
    }
   ],
   "source": [
    "data_duvera_stat_EU = pd.read_csv(\"ukol_02_b.txt\")\n",
    "#data_duvera_stat_EU.info()\n",
    "data_duvera_stat_EU.head()"
   ]
  },
  {
   "cell_type": "code",
   "execution_count": 11,
   "metadata": {},
   "outputs": [
    {
     "data": {
      "text/html": [
       "<div>\n",
       "<style scoped>\n",
       "    .dataframe tbody tr th:only-of-type {\n",
       "        vertical-align: middle;\n",
       "    }\n",
       "\n",
       "    .dataframe tbody tr th {\n",
       "        vertical-align: top;\n",
       "    }\n",
       "\n",
       "    .dataframe thead th {\n",
       "        text-align: right;\n",
       "    }\n",
       "</style>\n",
       "<table border=\"1\" class=\"dataframe\">\n",
       "  <thead>\n",
       "    <tr style=\"text-align: right;\">\n",
       "      <th></th>\n",
       "      <th>Country</th>\n",
       "      <th>National Government Trust</th>\n",
       "      <th>EU Trust</th>\n",
       "      <th>Country Name</th>\n",
       "      <th>Euro</th>\n",
       "    </tr>\n",
       "  </thead>\n",
       "  <tbody>\n",
       "    <tr>\n",
       "      <th>0</th>\n",
       "      <td>BE</td>\n",
       "      <td>40</td>\n",
       "      <td>55</td>\n",
       "      <td>Belgium</td>\n",
       "      <td>1</td>\n",
       "    </tr>\n",
       "    <tr>\n",
       "      <th>1</th>\n",
       "      <td>BG</td>\n",
       "      <td>19</td>\n",
       "      <td>49</td>\n",
       "      <td>Bulgaria</td>\n",
       "      <td>0</td>\n",
       "    </tr>\n",
       "    <tr>\n",
       "      <th>2</th>\n",
       "      <td>CZ</td>\n",
       "      <td>30</td>\n",
       "      <td>43</td>\n",
       "      <td>Czechia</td>\n",
       "      <td>0</td>\n",
       "    </tr>\n",
       "    <tr>\n",
       "      <th>3</th>\n",
       "      <td>DK</td>\n",
       "      <td>52</td>\n",
       "      <td>65</td>\n",
       "      <td>Denmark</td>\n",
       "      <td>0</td>\n",
       "    </tr>\n",
       "    <tr>\n",
       "      <th>4</th>\n",
       "      <td>DE</td>\n",
       "      <td>49</td>\n",
       "      <td>49</td>\n",
       "      <td>Germany</td>\n",
       "      <td>1</td>\n",
       "    </tr>\n",
       "  </tbody>\n",
       "</table>\n",
       "</div>"
      ],
      "text/plain": [
       "  Country  National Government Trust  EU Trust Country Name  Euro\n",
       "0      BE                         40        55      Belgium     1\n",
       "1      BG                         19        49     Bulgaria     0\n",
       "2      CZ                         30        43      Czechia     0\n",
       "3      DK                         52        65      Denmark     0\n",
       "4      DE                         49        49      Germany     1"
      ]
     },
     "execution_count": 11,
     "metadata": {},
     "output_type": "execute_result"
    }
   ],
   "source": [
    "data_duvera_stat_EU_merge = pd.merge(data_duvera_stat_EU, data_country , on=['Country']) # jen státy EU\n",
    "data_duvera_stat_EU_merge.head() # s tímto DF budu dále pracovat\n",
    "# data_duvera_stat_EU_merge.info()"
   ]
  },
  {
   "attachments": {},
   "cell_type": "markdown",
   "metadata": {},
   "source": [
    "- Test normality obou skupin dat.\n",
    "\n",
    "Hypotéza:\n",
    "\n",
    "\n",
    "H0: National Government Trust resp. EU Trust mají normální rozdělení dat (p<0,05 zamítám H0 t.j. platí H1.....p>0,05 nezamítám H0)\n",
    "\n",
    "H1: National Government Trust resp. EU Trust nemají normální rozdělení dat \n",
    "\n",
    "Shapiro-Wilk test"
   ]
  },
  {
   "cell_type": "code",
   "execution_count": 12,
   "metadata": {},
   "outputs": [
    {
     "data": {
      "text/plain": [
       "ShapiroResult(statistic=0.9438267350196838, pvalue=0.15140558779239655)"
      ]
     },
     "execution_count": 12,
     "metadata": {},
     "output_type": "execute_result"
    }
   ],
   "source": [
    "res_National_Government_Trust = stats.shapiro(data_duvera_stat_EU_merge['National Government Trust']) # ověření normality dat \n",
    "res_National_Government_Trust # ShapiroResult(statistic=0.9438267350196838, pvalue=0.15140558779239655) p>0,05 - nezamítám H0 - normální rozdělení dat"
   ]
  },
  {
   "cell_type": "code",
   "execution_count": 13,
   "metadata": {},
   "outputs": [
    {
     "data": {
      "text/plain": [
       "ShapiroResult(statistic=0.9735807180404663, pvalue=0.6981646418571472)"
      ]
     },
     "execution_count": 13,
     "metadata": {},
     "output_type": "execute_result"
    }
   ],
   "source": [
    "res_EU_Trust = stats.shapiro(data_duvera_stat_EU_merge['EU Trust']) # ověření normality dat \n",
    "res_EU_Trust # ShapiroResult(statistic=0.9735807180404663, pvalue=0.6981646418571472) p>0,05 - nezamítám H0 - normální rozdělení dat"
   ]
  },
  {
   "attachments": {},
   "cell_type": "markdown",
   "metadata": {},
   "source": [
    "- Formulace hypotéz testu."
   ]
  },
  {
   "attachments": {},
   "cell_type": "markdown",
   "metadata": {},
   "source": [
    "Ověř, zda existuje korelace mezi procentem lidí, které věří EU a procentem lidí, kteří věří své národní vládě.\n",
    "\n",
    "H0: procento lidí, které věří EU, a procento lidí, kteří věří své národní vládě - nejsou statisticky závislé - takže pokud p< 0,05 zamítám H0 a H1 platí\n",
    "\n",
    "H1: procento lidí, které věří EU, a procento lidí, kteří věří své národní vládě - jsou statisticky závislé"
   ]
  },
  {
   "attachments": {},
   "cell_type": "markdown",
   "metadata": {},
   "source": [
    "- Volba vhodného testu.\n",
    "\n",
    "1. Normální rozdělení dat\n",
    "2. Test statistické významnosti korelace\n",
    "\n",
    "test založený na Pearsonově korelačním koeficientu \n",
    "\n",
    "https://docs.scipy.org/doc/scipy/reference/generated/scipy.stats.pearsonr.html#scipy.stats.pearsonr\n"
   ]
  },
  {
   "cell_type": "code",
   "execution_count": 14,
   "metadata": {},
   "outputs": [
    {
     "data": {
      "text/plain": [
       "PearsonRResult(statistic=0.6097186340024556, pvalue=0.0007345896228823406)"
      ]
     },
     "execution_count": 14,
     "metadata": {},
     "output_type": "execute_result"
    }
   ],
   "source": [
    "res_duvera_EU = stats.pearsonr(data_duvera_stat_EU_merge['EU Trust'], data_duvera_stat_EU_merge['National Government Trust'])\n",
    "res_duvera_EU # PearsonRResult(statistic=0.6097186340024556, pvalue=0.0007345896228823406) p<0,05 zamítám H0 a platí H1"
   ]
  },
  {
   "attachments": {},
   "cell_type": "markdown",
   "metadata": {},
   "source": [
    "## Důvěra ve stát e euro\n",
    "\n",
    "Nakonec si rozdělíme státy EU na dvě skupiny - státy v eurozóně a státy mimo ni. Jak je to s důvěrou v EU? Důvěřují EU více lidé, kteří žijí ve státech platící eurem? Využij znovu data o důvěře v EU ze souboru [ukol_02_b.csv](soubory_02/ukol_02_b.csv) a rozděl státy na ty, které jsou v eurozóně, a ty, které jsou mimo ni. Porovnej, jak se liší důvěra v EU v těchto dvou skupinách zemí. Státy můžeš rozdělit s využitím tabulky v souboru [countries.csv](countries.csv).\n",
    "\n",
    "- Test normality můžeš vynechat, řiď se výsledkem z předchozí části.\n",
    "- Formulace hypotéz testu.\n",
    "- Volba vhodného testu. Pokud data nemají normální rozdělení, můžeš využít test z bonusového úkolu ze 7 lekce. Pokud data normální rozdělení mají, můžeš použít test zmíněný v přehledu testů v dané lekci.\n",
    "\n",
    "Zdroj dat: [https://europa.eu/eurobarometer/screen/home](https://europa.eu/eurobarometer/screen/home)"
   ]
  },
  {
   "attachments": {},
   "cell_type": "markdown",
   "metadata": {},
   "source": [
    "data_duvera_stat_EU_merge - DF, se kterým budu pracovat\n",
    "\n",
    "- státy v eurozóně - staty_euro_yes\n",
    "- státy mimo eurozónu - staty_euro_no"
   ]
  },
  {
   "cell_type": "code",
   "execution_count": 18,
   "metadata": {},
   "outputs": [
    {
     "data": {
      "text/html": [
       "<div>\n",
       "<style scoped>\n",
       "    .dataframe tbody tr th:only-of-type {\n",
       "        vertical-align: middle;\n",
       "    }\n",
       "\n",
       "    .dataframe tbody tr th {\n",
       "        vertical-align: top;\n",
       "    }\n",
       "\n",
       "    .dataframe thead th {\n",
       "        text-align: right;\n",
       "    }\n",
       "</style>\n",
       "<table border=\"1\" class=\"dataframe\">\n",
       "  <thead>\n",
       "    <tr style=\"text-align: right;\">\n",
       "      <th></th>\n",
       "      <th>Country</th>\n",
       "      <th>National Government Trust</th>\n",
       "      <th>EU Trust</th>\n",
       "      <th>Country Name</th>\n",
       "      <th>Euro</th>\n",
       "    </tr>\n",
       "  </thead>\n",
       "  <tbody>\n",
       "    <tr>\n",
       "      <th>0</th>\n",
       "      <td>BE</td>\n",
       "      <td>40</td>\n",
       "      <td>55</td>\n",
       "      <td>Belgium</td>\n",
       "      <td>1</td>\n",
       "    </tr>\n",
       "    <tr>\n",
       "      <th>4</th>\n",
       "      <td>DE</td>\n",
       "      <td>49</td>\n",
       "      <td>49</td>\n",
       "      <td>Germany</td>\n",
       "      <td>1</td>\n",
       "    </tr>\n",
       "    <tr>\n",
       "      <th>6</th>\n",
       "      <td>IE</td>\n",
       "      <td>46</td>\n",
       "      <td>58</td>\n",
       "      <td>Ireland</td>\n",
       "      <td>1</td>\n",
       "    </tr>\n",
       "    <tr>\n",
       "      <th>7</th>\n",
       "      <td>EL</td>\n",
       "      <td>22</td>\n",
       "      <td>37</td>\n",
       "      <td>Greece</td>\n",
       "      <td>1</td>\n",
       "    </tr>\n",
       "    <tr>\n",
       "      <th>8</th>\n",
       "      <td>ES</td>\n",
       "      <td>23</td>\n",
       "      <td>50</td>\n",
       "      <td>Spain</td>\n",
       "      <td>1</td>\n",
       "    </tr>\n",
       "  </tbody>\n",
       "</table>\n",
       "</div>"
      ],
      "text/plain": [
       "  Country  National Government Trust  EU Trust Country Name  Euro\n",
       "0      BE                         40        55      Belgium     1\n",
       "4      DE                         49        49      Germany     1\n",
       "6      IE                         46        58      Ireland     1\n",
       "7      EL                         22        37       Greece     1\n",
       "8      ES                         23        50        Spain     1"
      ]
     },
     "execution_count": 18,
     "metadata": {},
     "output_type": "execute_result"
    }
   ],
   "source": [
    "staty_euro_yes =data_duvera_stat_EU_merge[data_duvera_stat_EU_merge[\"Euro\"] == 1] \n",
    "#staty_euro_yes.info()\n",
    "staty_euro_yes.head()"
   ]
  },
  {
   "cell_type": "code",
   "execution_count": 20,
   "metadata": {},
   "outputs": [
    {
     "data": {
      "text/html": [
       "<div>\n",
       "<style scoped>\n",
       "    .dataframe tbody tr th:only-of-type {\n",
       "        vertical-align: middle;\n",
       "    }\n",
       "\n",
       "    .dataframe tbody tr th {\n",
       "        vertical-align: top;\n",
       "    }\n",
       "\n",
       "    .dataframe thead th {\n",
       "        text-align: right;\n",
       "    }\n",
       "</style>\n",
       "<table border=\"1\" class=\"dataframe\">\n",
       "  <thead>\n",
       "    <tr style=\"text-align: right;\">\n",
       "      <th></th>\n",
       "      <th>Country</th>\n",
       "      <th>National Government Trust</th>\n",
       "      <th>EU Trust</th>\n",
       "      <th>Country Name</th>\n",
       "      <th>Euro</th>\n",
       "    </tr>\n",
       "  </thead>\n",
       "  <tbody>\n",
       "    <tr>\n",
       "      <th>1</th>\n",
       "      <td>BG</td>\n",
       "      <td>19</td>\n",
       "      <td>49</td>\n",
       "      <td>Bulgaria</td>\n",
       "      <td>0</td>\n",
       "    </tr>\n",
       "    <tr>\n",
       "      <th>2</th>\n",
       "      <td>CZ</td>\n",
       "      <td>30</td>\n",
       "      <td>43</td>\n",
       "      <td>Czechia</td>\n",
       "      <td>0</td>\n",
       "    </tr>\n",
       "    <tr>\n",
       "      <th>3</th>\n",
       "      <td>DK</td>\n",
       "      <td>52</td>\n",
       "      <td>65</td>\n",
       "      <td>Denmark</td>\n",
       "      <td>0</td>\n",
       "    </tr>\n",
       "    <tr>\n",
       "      <th>5</th>\n",
       "      <td>EE</td>\n",
       "      <td>39</td>\n",
       "      <td>48</td>\n",
       "      <td>Estonia</td>\n",
       "      <td>0</td>\n",
       "    </tr>\n",
       "    <tr>\n",
       "      <th>10</th>\n",
       "      <td>HR</td>\n",
       "      <td>20</td>\n",
       "      <td>42</td>\n",
       "      <td>Croatia</td>\n",
       "      <td>0</td>\n",
       "    </tr>\n",
       "  </tbody>\n",
       "</table>\n",
       "</div>"
      ],
      "text/plain": [
       "   Country  National Government Trust  EU Trust Country Name  Euro\n",
       "1       BG                         19        49     Bulgaria     0\n",
       "2       CZ                         30        43      Czechia     0\n",
       "3       DK                         52        65      Denmark     0\n",
       "5       EE                         39        48      Estonia     0\n",
       "10      HR                         20        42      Croatia     0"
      ]
     },
     "execution_count": 20,
     "metadata": {},
     "output_type": "execute_result"
    }
   ],
   "source": [
    "staty_euro_no =data_duvera_stat_EU_merge[data_duvera_stat_EU_merge[\"Euro\"] == 0] \n",
    "#staty_euro_no.info()\n",
    "staty_euro_no.head()"
   ]
  },
  {
   "attachments": {},
   "cell_type": "markdown",
   "metadata": {},
   "source": [
    "- Test normality můžeš vynechat, řiď se výsledkem z předchozí části. res_EU_Trust - pvalue=0.3959057033061981  p>0,05 - nezamítám H0 - normální rozdělení dat\n"
   ]
  },
  {
   "attachments": {},
   "cell_type": "markdown",
   "metadata": {},
   "source": [
    "Výběr testu provedeme na základě následujících informací:\n",
    "\n",
    "- máme dva soubory,\n",
    "- data nejsou párová (jsou to dvě různé skupiny států).\n",
    "- chceme porovnat výši jejich důvěry v EU,"
   ]
  },
  {
   "attachments": {},
   "cell_type": "markdown",
   "metadata": {},
   "source": [
    "- Formulace hypotéz testu - Jak je to s důvěrou v EU? Důvěřují EU více lidé, kteří žijí ve státech platící eurem?\n",
    "\n",
    "H0: Důvěra v EU ve státech v eurozóně - staty_euro_yes je stejná jako ve státech mimo eurozónu - staty_euro_no \n",
    "\n",
    "H1: Důvěra v EU ve státech v eurozóně - staty_euro_yes a ve státech mimo eurozónu - staty_euro_no je různá"
   ]
  },
  {
   "attachments": {},
   "cell_type": "markdown",
   "metadata": {},
   "source": [
    "- Volba vhodného testu - data mají normální rozdělení "
   ]
  },
  {
   "attachments": {},
   "cell_type": "markdown",
   "metadata": {},
   "source": [
    "Pro test hypotézy můžeme použít t-test. \n",
    "https://docs.scipy.org/doc/scipy/reference/generated/scipy.stats.ttest_ind.html#scipy.stats.ttest_ind\n"
   ]
  },
  {
   "cell_type": "code",
   "execution_count": 21,
   "metadata": {},
   "outputs": [
    {
     "data": {
      "text/plain": [
       "Ttest_indResult(statistic=-0.33471431258258433, pvalue=0.7406326832748829)"
      ]
     },
     "execution_count": 21,
     "metadata": {},
     "output_type": "execute_result"
    }
   ],
   "source": [
    "res_porovnani_duvera_EU = stats.ttest_ind(staty_euro_yes[\"EU Trust\"], staty_euro_no[\"EU Trust\"])\n",
    "res_porovnani_duvera_EU # Ttest_indResult(statistic=-0.33471431258258433, pvalue=0.7406326832748829) "
   ]
  }
 ],
 "metadata": {
  "kernelspec": {
   "display_name": "Python 3",
   "language": "python",
   "name": "python3"
  },
  "language_info": {
   "codemirror_mode": {
    "name": "ipython",
    "version": 3
   },
   "file_extension": ".py",
   "mimetype": "text/x-python",
   "name": "python",
   "nbconvert_exporter": "python",
   "pygments_lexer": "ipython3",
   "version": "3.9.10"
  },
  "orig_nbformat": 4
 },
 "nbformat": 4,
 "nbformat_minor": 2
}
